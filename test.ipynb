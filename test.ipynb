{
  "cells": [
    {
      "cell_type": "markdown",
      "metadata": {
        "id": "view-in-github",
        "colab_type": "text"
      },
      "source": [
        "<a href=\"https://colab.research.google.com/github/srv/opencosmos/blob/main/test.ipynb\" target=\"_parent\"><img src=\"https://colab.research.google.com/assets/colab-badge.svg\" alt=\"Open In Colab\"/></a>"
      ]
    },
    {
      "cell_type": "code",
      "execution_count": 4,
      "id": "09e78bbb-baff-4cfb-89d7-f73472ad8781",
      "metadata": {
        "id": "09e78bbb-baff-4cfb-89d7-f73472ad8781"
      },
      "outputs": [],
      "source": [
        "name = \"Miguel\""
      ]
    },
    {
      "cell_type": "code",
      "execution_count": 5,
      "id": "d249c6bd-fbaf-4c99-8d7f-4607f75c374d",
      "metadata": {
        "id": "d249c6bd-fbaf-4c99-8d7f-4607f75c374d",
        "outputId": "ced2e4ad-f6fd-46ad-b90e-9fbc048a0279",
        "colab": {
          "base_uri": "https://localhost:8080/"
        }
      },
      "outputs": [
        {
          "output_type": "stream",
          "name": "stdout",
          "text": [
            "my name is: Miguel\n"
          ]
        }
      ],
      "source": [
        "print(\"my name is: \" + name)"
      ]
    },
    {
      "cell_type": "code",
      "execution_count": 6,
      "id": "b057ff6b-d6e0-4c53-bc23-d1837e259d39",
      "metadata": {
        "id": "b057ff6b-d6e0-4c53-bc23-d1837e259d39",
        "outputId": "0d9dd2b1-9645-4dc0-cc3d-e30e60e8c806",
        "colab": {
          "base_uri": "https://localhost:8080/"
        }
      },
      "outputs": [
        {
          "output_type": "stream",
          "name": "stdout",
          "text": [
            "3\n"
          ]
        }
      ],
      "source": [
        "x = 1\n",
        "y = 2\n",
        "z = x+y\n",
        "print(z)"
      ]
    }
  ],
  "metadata": {
    "kernelspec": {
      "display_name": "Python 3 (ipykernel)",
      "language": "python",
      "name": "python3"
    },
    "language_info": {
      "codemirror_mode": {
        "name": "ipython",
        "version": 3
      },
      "file_extension": ".py",
      "mimetype": "text/x-python",
      "name": "python",
      "nbconvert_exporter": "python",
      "pygments_lexer": "ipython3",
      "version": "3.13.7"
    },
    "colab": {
      "provenance": [],
      "toc_visible": true,
      "include_colab_link": true
    }
  },
  "nbformat": 4,
  "nbformat_minor": 5
}