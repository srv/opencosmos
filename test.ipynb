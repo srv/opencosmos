{
 "cells": [
  {
   "cell_type": "code",
   "execution_count": 1,
   "id": "09e78bbb-baff-4cfb-89d7-f73472ad8781",
   "metadata": {},
   "outputs": [],
   "source": [
    "name = \"Miguel\""
   ]
  },
  {
   "cell_type": "code",
   "execution_count": 2,
   "id": "d249c6bd-fbaf-4c99-8d7f-4607f75c374d",
   "metadata": {},
   "outputs": [
    {
     "name": "stdout",
     "output_type": "stream",
     "text": [
      "my name is: Miguel\n"
     ]
    }
   ],
   "source": [
    "print(\"my name is: \" + name)"
   ]
  },
  {
   "cell_type": "code",
   "execution_count": null,
   "id": "b057ff6b-d6e0-4c53-bc23-d1837e259d39",
   "metadata": {},
   "outputs": [],
   "source": []
  }
 ],
 "metadata": {
  "kernelspec": {
   "display_name": "Python 3 (ipykernel)",
   "language": "python",
   "name": "python3"
  },
  "language_info": {
   "codemirror_mode": {
    "name": "ipython",
    "version": 3
   },
   "file_extension": ".py",
   "mimetype": "text/x-python",
   "name": "python",
   "nbconvert_exporter": "python",
   "pygments_lexer": "ipython3",
   "version": "3.13.7"
  }
 },
 "nbformat": 4,
 "nbformat_minor": 5
}
